{
 "cells": [
  {
   "cell_type": "code",
   "execution_count": 86,
   "metadata": {},
   "outputs": [],
   "source": [
    "import numpy\n",
    "numpy.random.seed(1337)\n",
    "from numpy import loadtxt\n",
    "from keras.models import Sequential\n",
    "from keras.layers import Dense"
   ]
  },
  {
   "cell_type": "code",
   "execution_count": 87,
   "metadata": {},
   "outputs": [],
   "source": [
    "dataset=loadtxt('corona predictions.csv', delimiter=',')"
   ]
  },
  {
   "cell_type": "code",
   "execution_count": 88,
   "metadata": {},
   "outputs": [
    {
     "name": "stdout",
     "output_type": "stream",
     "text": [
      "[[25.    0.93  0.3   0.5   0.2   3.3   1.  ]\n",
      " [28.    0.94  0.35  0.4   0.21  3.6   0.  ]\n",
      " [29.    0.83  0.2   0.6   0.19  3.2   1.  ]\n",
      " [30.    0.73  0.1   0.55  0.11  2.9   1.  ]\n",
      " [23.    0.95  0.15  0.35  0.4   5.4   0.  ]\n",
      " [25.    0.72  0.3   0.7   0.16  2.5   1.  ]\n",
      " [16.    0.98  0.17  0.2   0.4   5.1   0.  ]\n",
      " [26.    0.94  0.3   0.8   0.2   1.9   1.  ]\n",
      " [21.    0.93  0.25  0.2   0.4   5.4   0.  ]\n",
      " [27.    0.91  0.35  0.7   0.2   3.3   1.  ]\n",
      " [13.    0.95  0.38  0.3   0.3   4.3   0.  ]\n",
      " [30.    0.72  0.17  0.6   0.16  2.9   1.  ]\n",
      " [19.    0.96  0.4   0.29  0.27  5.    0.  ]\n",
      " [29.    0.85  0.24  0.6   0.18  3.    1.  ]\n",
      " [21.    0.99  0.42  0.3   0.25  3.7   0.  ]\n",
      " [27.    0.75  0.26  0.8   0.17  2.9   1.  ]\n",
      " [15.    0.96  0.49  0.2   0.36  4.1   0.  ]\n",
      " [27.    0.8   0.27  0.7   0.15  2.8   1.  ]\n",
      " [16.    1.    0.15  0.6   0.4   5.4   0.  ]\n",
      " [20.    0.82  0.29  0.6   0.1   3.1   1.  ]\n",
      " [25.    0.93  0.3   0.5   0.2   3.1   1.  ]\n",
      " [26.    0.98  0.34  0.3   0.3   4.    0.  ]\n",
      " [30.    0.72  0.19  0.7   0.15  2.9   1.  ]\n",
      " [26.    0.65  0.28  0.65  0.2   2.5   1.  ]\n",
      " [23.    0.95  0.15  0.35  0.4   3.6   0.  ]\n",
      " [25.    0.72  0.3   0.7   0.16  2.5   1.  ]\n",
      " [16.    0.98  0.17  0.2   0.4   5.1   0.  ]\n",
      " [26.    0.94  0.3   0.8   0.2   1.9   1.  ]\n",
      " [21.    0.93  0.25  0.2   0.4   5.4   0.  ]\n",
      " [27.    0.91  0.35  0.7   0.2   3.3   1.  ]\n",
      " [25.    0.93  0.3   0.5   0.2   3.4   1.  ]\n",
      " [19.    0.99  0.4   0.4   0.21  3.6   0.  ]\n",
      " [29.    0.83  0.2   0.6   0.19  3.2   1.  ]\n",
      " [30.    0.73  0.1   0.55  0.11  2.9   1.  ]\n",
      " [23.    0.95  0.15  0.35  0.4   5.4   0.  ]\n",
      " [25.    0.72  0.3   0.7   0.16  2.5   1.  ]\n",
      " [16.    0.98  0.17  0.2   0.4   5.1   0.  ]\n",
      " [26.    0.94  0.3   0.8   0.2   1.9   1.  ]\n",
      " [21.    0.93  0.25  0.2   0.4   5.4   0.  ]\n",
      " [27.    0.91  0.35  0.7   0.2   3.3   1.  ]] [1. 0. 1. 1. 0. 1. 0. 1. 0. 1. 0. 1. 0. 1. 0. 1. 0. 1. 0. 1. 1. 0. 1. 1.\n",
      " 0. 1. 0. 1. 0. 1. 1. 0. 1. 1. 0. 1. 0. 1. 0. 1.]\n",
      "40\n"
     ]
    }
   ],
   "source": [
    "x=dataset[:,0:7]\n",
    "y=dataset[:,-1]\n",
    "print(x,y)\n",
    "n=x.shape[0]\n",
    "print(n)"
   ]
  },
  {
   "cell_type": "code",
   "execution_count": 89,
   "metadata": {},
   "outputs": [
    {
     "name": "stdout",
     "output_type": "stream",
     "text": [
      "[[29.    0.85  0.24  0.6   0.18  3.    1.  ]\n",
      " [25.    0.93  0.3   0.5   0.2   3.3   1.  ]\n",
      " [25.    0.72  0.3   0.7   0.16  2.5   1.  ]\n",
      " [26.    0.94  0.3   0.8   0.2   1.9   1.  ]\n",
      " [15.    0.96  0.49  0.2   0.36  4.1   0.  ]\n",
      " [21.    0.93  0.25  0.2   0.4   5.4   0.  ]\n",
      " [19.    0.96  0.4   0.29  0.27  5.    0.  ]\n",
      " [26.    0.94  0.3   0.8   0.2   1.9   1.  ]\n",
      " [26.    0.94  0.3   0.8   0.2   1.9   1.  ]\n",
      " [13.    0.95  0.38  0.3   0.3   4.3   0.  ]\n",
      " [23.    0.95  0.15  0.35  0.4   5.4   0.  ]\n",
      " [23.    0.95  0.15  0.35  0.4   5.4   0.  ]\n",
      " [27.    0.8   0.27  0.7   0.15  2.8   1.  ]\n",
      " [26.    0.98  0.34  0.3   0.3   4.    0.  ]\n",
      " [30.    0.73  0.1   0.55  0.11  2.9   1.  ]\n",
      " [20.    0.82  0.29  0.6   0.1   3.1   1.  ]\n",
      " [27.    0.75  0.26  0.8   0.17  2.9   1.  ]\n",
      " [21.    0.99  0.42  0.3   0.25  3.7   0.  ]\n",
      " [27.    0.91  0.35  0.7   0.2   3.3   1.  ]\n",
      " [30.    0.72  0.17  0.6   0.16  2.9   1.  ]\n",
      " [30.    0.73  0.1   0.55  0.11  2.9   1.  ]\n",
      " [29.    0.83  0.2   0.6   0.19  3.2   1.  ]\n",
      " [29.    0.83  0.2   0.6   0.19  3.2   1.  ]\n",
      " [25.    0.72  0.3   0.7   0.16  2.5   1.  ]\n",
      " [25.    0.93  0.3   0.5   0.2   3.4   1.  ]\n",
      " [19.    0.99  0.4   0.4   0.21  3.6   0.  ]\n",
      " [28.    0.94  0.35  0.4   0.21  3.6   0.  ]\n",
      " [23.    0.95  0.15  0.35  0.4   3.6   0.  ]\n",
      " [27.    0.91  0.35  0.7   0.2   3.3   1.  ]\n",
      " [16.    0.98  0.17  0.2   0.4   5.1   0.  ]\n",
      " [30.    0.72  0.19  0.7   0.15  2.9   1.  ]\n",
      " [16.    0.98  0.17  0.2   0.4   5.1   0.  ]\n",
      " [27.    0.91  0.35  0.7   0.2   3.3   1.  ]\n",
      " [21.    0.93  0.25  0.2   0.4   5.4   0.  ]\n",
      " [25.    0.93  0.3   0.5   0.2   3.1   1.  ]\n",
      " [16.    1.    0.15  0.6   0.4   5.4   0.  ]\n",
      " [16.    0.98  0.17  0.2   0.4   5.1   0.  ]\n",
      " [25.    0.72  0.3   0.7   0.16  2.5   1.  ]\n",
      " [21.    0.93  0.25  0.2   0.4   5.4   0.  ]\n",
      " [26.    0.65  0.28  0.65  0.2   2.5   1.  ]] [1. 1. 1. 1. 0. 0. 0. 1. 1. 0. 0. 0. 1. 0. 1. 1. 1. 0. 1. 1. 1. 1. 1. 1.\n",
      " 1. 0. 0. 0. 1. 0. 1. 0. 1. 0. 1. 0. 0. 1. 0. 1.]\n"
     ]
    }
   ],
   "source": [
    "ran=numpy.arange(n)\n",
    "numpy.random.shuffle(ran)\n",
    "x=x[ran]\n",
    "y=y[ran]\n",
    "print(x,y)"
   ]
  },
  {
   "cell_type": "code",
   "execution_count": 90,
   "metadata": {},
   "outputs": [
    {
     "name": "stdout",
     "output_type": "stream",
     "text": [
      "[[29.    0.85  0.24  0.6   0.18  3.    1.  ]\n",
      " [25.    0.93  0.3   0.5   0.2   3.3   1.  ]\n",
      " [25.    0.72  0.3   0.7   0.16  2.5   1.  ]\n",
      " [26.    0.94  0.3   0.8   0.2   1.9   1.  ]\n",
      " [15.    0.96  0.49  0.2   0.36  4.1   0.  ]\n",
      " [21.    0.93  0.25  0.2   0.4   5.4   0.  ]\n",
      " [19.    0.96  0.4   0.29  0.27  5.    0.  ]\n",
      " [26.    0.94  0.3   0.8   0.2   1.9   1.  ]\n",
      " [26.    0.94  0.3   0.8   0.2   1.9   1.  ]\n",
      " [13.    0.95  0.38  0.3   0.3   4.3   0.  ]\n",
      " [23.    0.95  0.15  0.35  0.4   5.4   0.  ]\n",
      " [23.    0.95  0.15  0.35  0.4   5.4   0.  ]\n",
      " [27.    0.8   0.27  0.7   0.15  2.8   1.  ]\n",
      " [26.    0.98  0.34  0.3   0.3   4.    0.  ]\n",
      " [30.    0.73  0.1   0.55  0.11  2.9   1.  ]\n",
      " [20.    0.82  0.29  0.6   0.1   3.1   1.  ]\n",
      " [27.    0.75  0.26  0.8   0.17  2.9   1.  ]\n",
      " [21.    0.99  0.42  0.3   0.25  3.7   0.  ]\n",
      " [27.    0.91  0.35  0.7   0.2   3.3   1.  ]\n",
      " [30.    0.72  0.17  0.6   0.16  2.9   1.  ]\n",
      " [30.    0.73  0.1   0.55  0.11  2.9   1.  ]\n",
      " [29.    0.83  0.2   0.6   0.19  3.2   1.  ]\n",
      " [29.    0.83  0.2   0.6   0.19  3.2   1.  ]\n",
      " [25.    0.72  0.3   0.7   0.16  2.5   1.  ]\n",
      " [25.    0.93  0.3   0.5   0.2   3.4   1.  ]\n",
      " [19.    0.99  0.4   0.4   0.21  3.6   0.  ]\n",
      " [28.    0.94  0.35  0.4   0.21  3.6   0.  ]\n",
      " [23.    0.95  0.15  0.35  0.4   3.6   0.  ]\n",
      " [27.    0.91  0.35  0.7   0.2   3.3   1.  ]\n",
      " [16.    0.98  0.17  0.2   0.4   5.1   0.  ]] [1. 1. 1. 1. 0. 0. 0. 1. 1. 0. 0. 0. 1. 0. 1. 1. 1. 0. 1. 1. 1. 1. 1. 1.\n",
      " 1. 0. 0. 0. 1. 0.] [[30.    0.72  0.19  0.7   0.15  2.9   1.  ]\n",
      " [16.    0.98  0.17  0.2   0.4   5.1   0.  ]\n",
      " [27.    0.91  0.35  0.7   0.2   3.3   1.  ]\n",
      " [21.    0.93  0.25  0.2   0.4   5.4   0.  ]\n",
      " [25.    0.93  0.3   0.5   0.2   3.1   1.  ]\n",
      " [16.    1.    0.15  0.6   0.4   5.4   0.  ]\n",
      " [16.    0.98  0.17  0.2   0.4   5.1   0.  ]\n",
      " [25.    0.72  0.3   0.7   0.16  2.5   1.  ]\n",
      " [21.    0.93  0.25  0.2   0.4   5.4   0.  ]\n",
      " [26.    0.65  0.28  0.65  0.2   2.5   1.  ]] [1. 0. 1. 0. 1. 0. 0. 1. 0. 1.]\n"
     ]
    }
   ],
   "source": [
    "split=30\n",
    "x_train=x[:split]\n",
    "y_train=y[:split]\n",
    "x_test=x[split:]\n",
    "y_test=y[split:]\n",
    "print(x_train,y_train,x_test,y_test)"
   ]
  },
  {
   "cell_type": "code",
   "execution_count": 91,
   "metadata": {},
   "outputs": [],
   "source": [
    "model=Sequential()\n",
    "model.add(Dense(512, input_dim=7,activation='sigmoid'))\n",
    "model.add(Dense(512,activation='sigmoid'))\n",
    "model.add(Dense(512,activation='sigmoid'))\n",
    "model.add(Dense(1,activation='softmax'))"
   ]
  },
  {
   "cell_type": "code",
   "execution_count": 92,
   "metadata": {},
   "outputs": [],
   "source": [
    "model.compile(loss='categorical_crossentropy',optimizer='adam',metrics=['accuracy'])"
   ]
  },
  {
   "cell_type": "code",
   "execution_count": 93,
   "metadata": {},
   "outputs": [
    {
     "name": "stdout",
     "output_type": "stream",
     "text": [
      "Epoch 1/80\n",
      "15/15 [==============================] - 1s 35ms/step - loss: 0.0000e+00 - accuracy: 0.6000 - val_loss: 0.0000e+00 - val_accuracy: 0.5000\n",
      "Epoch 2/80\n",
      "15/15 [==============================] - 0s 16ms/step - loss: 0.0000e+00 - accuracy: 0.6000 - val_loss: 0.0000e+00 - val_accuracy: 0.5000\n",
      "Epoch 3/80\n",
      "15/15 [==============================] - 0s 16ms/step - loss: 0.0000e+00 - accuracy: 0.6000 - val_loss: 0.0000e+00 - val_accuracy: 0.5000\n",
      "Epoch 4/80\n",
      "15/15 [==============================] - 0s 17ms/step - loss: 0.0000e+00 - accuracy: 0.6000 - val_loss: 0.0000e+00 - val_accuracy: 0.5000\n",
      "Epoch 5/80\n",
      "15/15 [==============================] - 0s 16ms/step - loss: 0.0000e+00 - accuracy: 0.6000 - val_loss: 0.0000e+00 - val_accuracy: 0.5000\n",
      "Epoch 6/80\n",
      "15/15 [==============================] - 0s 17ms/step - loss: 0.0000e+00 - accuracy: 0.6000 - val_loss: 0.0000e+00 - val_accuracy: 0.5000\n",
      "Epoch 7/80\n",
      "15/15 [==============================] - 0s 16ms/step - loss: 0.0000e+00 - accuracy: 0.6000 - val_loss: 0.0000e+00 - val_accuracy: 0.5000\n",
      "Epoch 8/80\n",
      "15/15 [==============================] - 0s 18ms/step - loss: 0.0000e+00 - accuracy: 0.6000 - val_loss: 0.0000e+00 - val_accuracy: 0.5000\n",
      "Epoch 9/80\n",
      "15/15 [==============================] - 0s 17ms/step - loss: 0.0000e+00 - accuracy: 0.6000 - val_loss: 0.0000e+00 - val_accuracy: 0.5000\n",
      "Epoch 10/80\n",
      "15/15 [==============================] - 0s 20ms/step - loss: 0.0000e+00 - accuracy: 0.6000 - val_loss: 0.0000e+00 - val_accuracy: 0.5000\n",
      "Epoch 11/80\n",
      "15/15 [==============================] - 0s 19ms/step - loss: 0.0000e+00 - accuracy: 0.6000 - val_loss: 0.0000e+00 - val_accuracy: 0.5000\n",
      "Epoch 12/80\n",
      "15/15 [==============================] - 0s 20ms/step - loss: 0.0000e+00 - accuracy: 0.6000 - val_loss: 0.0000e+00 - val_accuracy: 0.5000\n",
      "Epoch 13/80\n",
      "15/15 [==============================] - 0s 19ms/step - loss: 0.0000e+00 - accuracy: 0.6000 - val_loss: 0.0000e+00 - val_accuracy: 0.5000\n",
      "Epoch 14/80\n",
      "15/15 [==============================] - 0s 19ms/step - loss: 0.0000e+00 - accuracy: 0.6000 - val_loss: 0.0000e+00 - val_accuracy: 0.5000\n",
      "Epoch 15/80\n",
      "15/15 [==============================] - 0s 20ms/step - loss: 0.0000e+00 - accuracy: 0.6000 - val_loss: 0.0000e+00 - val_accuracy: 0.5000\n",
      "Epoch 16/80\n",
      "15/15 [==============================] - 0s 19ms/step - loss: 0.0000e+00 - accuracy: 0.6000 - val_loss: 0.0000e+00 - val_accuracy: 0.5000\n",
      "Epoch 17/80\n",
      "15/15 [==============================] - 0s 20ms/step - loss: 0.0000e+00 - accuracy: 0.6000 - val_loss: 0.0000e+00 - val_accuracy: 0.5000\n",
      "Epoch 18/80\n",
      "15/15 [==============================] - 0s 18ms/step - loss: 0.0000e+00 - accuracy: 0.6000 - val_loss: 0.0000e+00 - val_accuracy: 0.5000\n",
      "Epoch 19/80\n",
      "15/15 [==============================] - 0s 19ms/step - loss: 0.0000e+00 - accuracy: 0.6000 - val_loss: 0.0000e+00 - val_accuracy: 0.5000\n",
      "Epoch 20/80\n",
      "15/15 [==============================] - 0s 23ms/step - loss: 0.0000e+00 - accuracy: 0.6000 - val_loss: 0.0000e+00 - val_accuracy: 0.5000\n",
      "Epoch 21/80\n",
      "15/15 [==============================] - 0s 18ms/step - loss: 0.0000e+00 - accuracy: 0.6000 - val_loss: 0.0000e+00 - val_accuracy: 0.5000\n",
      "Epoch 22/80\n",
      "15/15 [==============================] - 0s 20ms/step - loss: 0.0000e+00 - accuracy: 0.6000 - val_loss: 0.0000e+00 - val_accuracy: 0.5000\n",
      "Epoch 23/80\n",
      "15/15 [==============================] - 0s 19ms/step - loss: 0.0000e+00 - accuracy: 0.6000 - val_loss: 0.0000e+00 - val_accuracy: 0.5000\n",
      "Epoch 24/80\n",
      "15/15 [==============================] - 0s 20ms/step - loss: 0.0000e+00 - accuracy: 0.6000 - val_loss: 0.0000e+00 - val_accuracy: 0.5000\n",
      "Epoch 25/80\n",
      "15/15 [==============================] - 0s 19ms/step - loss: 0.0000e+00 - accuracy: 0.6000 - val_loss: 0.0000e+00 - val_accuracy: 0.5000\n",
      "Epoch 26/80\n",
      "15/15 [==============================] - 0s 20ms/step - loss: 0.0000e+00 - accuracy: 0.6000 - val_loss: 0.0000e+00 - val_accuracy: 0.5000\n",
      "Epoch 27/80\n",
      "15/15 [==============================] - 0s 19ms/step - loss: 0.0000e+00 - accuracy: 0.6000 - val_loss: 0.0000e+00 - val_accuracy: 0.5000\n",
      "Epoch 28/80\n",
      "15/15 [==============================] - 0s 20ms/step - loss: 0.0000e+00 - accuracy: 0.6000 - val_loss: 0.0000e+00 - val_accuracy: 0.5000\n",
      "Epoch 29/80\n",
      "15/15 [==============================] - 0s 18ms/step - loss: 0.0000e+00 - accuracy: 0.6000 - val_loss: 0.0000e+00 - val_accuracy: 0.5000\n",
      "Epoch 30/80\n",
      "15/15 [==============================] - 0s 19ms/step - loss: 0.0000e+00 - accuracy: 0.6000 - val_loss: 0.0000e+00 - val_accuracy: 0.5000\n",
      "Epoch 31/80\n",
      "15/15 [==============================] - 0s 18ms/step - loss: 0.0000e+00 - accuracy: 0.6000 - val_loss: 0.0000e+00 - val_accuracy: 0.5000\n",
      "Epoch 32/80\n",
      "15/15 [==============================] - 0s 17ms/step - loss: 0.0000e+00 - accuracy: 0.6000 - val_loss: 0.0000e+00 - val_accuracy: 0.5000\n",
      "Epoch 33/80\n",
      "15/15 [==============================] - 0s 19ms/step - loss: 0.0000e+00 - accuracy: 0.6000 - val_loss: 0.0000e+00 - val_accuracy: 0.5000\n",
      "Epoch 34/80\n",
      "15/15 [==============================] - 0s 19ms/step - loss: 0.0000e+00 - accuracy: 0.6000 - val_loss: 0.0000e+00 - val_accuracy: 0.5000\n",
      "Epoch 35/80\n",
      "15/15 [==============================] - 0s 19ms/step - loss: 0.0000e+00 - accuracy: 0.6000 - val_loss: 0.0000e+00 - val_accuracy: 0.5000\n",
      "Epoch 36/80\n",
      "15/15 [==============================] - 0s 18ms/step - loss: 0.0000e+00 - accuracy: 0.6000 - val_loss: 0.0000e+00 - val_accuracy: 0.5000\n",
      "Epoch 37/80\n",
      "15/15 [==============================] - 0s 16ms/step - loss: 0.0000e+00 - accuracy: 0.6000 - val_loss: 0.0000e+00 - val_accuracy: 0.5000\n",
      "Epoch 38/80\n",
      "15/15 [==============================] - 0s 16ms/step - loss: 0.0000e+00 - accuracy: 0.6000 - val_loss: 0.0000e+00 - val_accuracy: 0.5000\n",
      "Epoch 39/80\n",
      "15/15 [==============================] - 0s 18ms/step - loss: 0.0000e+00 - accuracy: 0.6000 - val_loss: 0.0000e+00 - val_accuracy: 0.5000\n",
      "Epoch 40/80\n",
      "15/15 [==============================] - 0s 18ms/step - loss: 0.0000e+00 - accuracy: 0.6000 - val_loss: 0.0000e+00 - val_accuracy: 0.5000\n",
      "Epoch 41/80\n",
      "15/15 [==============================] - 0s 17ms/step - loss: 0.0000e+00 - accuracy: 0.6000 - val_loss: 0.0000e+00 - val_accuracy: 0.5000\n",
      "Epoch 42/80\n",
      "15/15 [==============================] - 0s 18ms/step - loss: 0.0000e+00 - accuracy: 0.6000 - val_loss: 0.0000e+00 - val_accuracy: 0.5000\n",
      "Epoch 43/80\n",
      "15/15 [==============================] - 0s 20ms/step - loss: 0.0000e+00 - accuracy: 0.6000 - val_loss: 0.0000e+00 - val_accuracy: 0.5000\n",
      "Epoch 44/80\n",
      "15/15 [==============================] - 0s 20ms/step - loss: 0.0000e+00 - accuracy: 0.6000 - val_loss: 0.0000e+00 - val_accuracy: 0.5000\n",
      "Epoch 45/80\n",
      "15/15 [==============================] - 0s 18ms/step - loss: 0.0000e+00 - accuracy: 0.6000 - val_loss: 0.0000e+00 - val_accuracy: 0.5000\n",
      "Epoch 46/80\n",
      "15/15 [==============================] - 0s 20ms/step - loss: 0.0000e+00 - accuracy: 0.6000 - val_loss: 0.0000e+00 - val_accuracy: 0.5000\n",
      "Epoch 47/80\n",
      "15/15 [==============================] - 0s 19ms/step - loss: 0.0000e+00 - accuracy: 0.6000 - val_loss: 0.0000e+00 - val_accuracy: 0.5000\n",
      "Epoch 48/80\n",
      "15/15 [==============================] - 0s 19ms/step - loss: 0.0000e+00 - accuracy: 0.6000 - val_loss: 0.0000e+00 - val_accuracy: 0.5000\n",
      "Epoch 49/80\n",
      "15/15 [==============================] - 0s 19ms/step - loss: 0.0000e+00 - accuracy: 0.6000 - val_loss: 0.0000e+00 - val_accuracy: 0.5000\n",
      "Epoch 50/80\n",
      "15/15 [==============================] - 0s 20ms/step - loss: 0.0000e+00 - accuracy: 0.6000 - val_loss: 0.0000e+00 - val_accuracy: 0.5000\n",
      "Epoch 51/80\n",
      "15/15 [==============================] - 0s 19ms/step - loss: 0.0000e+00 - accuracy: 0.6000 - val_loss: 0.0000e+00 - val_accuracy: 0.5000\n",
      "Epoch 52/80\n",
      "15/15 [==============================] - 0s 18ms/step - loss: 0.0000e+00 - accuracy: 0.6000 - val_loss: 0.0000e+00 - val_accuracy: 0.5000\n",
      "Epoch 53/80\n",
      "15/15 [==============================] - 0s 20ms/step - loss: 0.0000e+00 - accuracy: 0.6000 - val_loss: 0.0000e+00 - val_accuracy: 0.5000\n",
      "Epoch 54/80\n",
      "15/15 [==============================] - 0s 18ms/step - loss: 0.0000e+00 - accuracy: 0.6000 - val_loss: 0.0000e+00 - val_accuracy: 0.5000\n",
      "Epoch 55/80\n",
      "15/15 [==============================] - 0s 19ms/step - loss: 0.0000e+00 - accuracy: 0.6000 - val_loss: 0.0000e+00 - val_accuracy: 0.5000\n",
      "Epoch 56/80\n",
      "15/15 [==============================] - 0s 17ms/step - loss: 0.0000e+00 - accuracy: 0.6000 - val_loss: 0.0000e+00 - val_accuracy: 0.5000\n",
      "Epoch 57/80\n",
      "15/15 [==============================] - 0s 17ms/step - loss: 0.0000e+00 - accuracy: 0.6000 - val_loss: 0.0000e+00 - val_accuracy: 0.5000\n",
      "Epoch 58/80\n",
      "15/15 [==============================] - 0s 16ms/step - loss: 0.0000e+00 - accuracy: 0.6000 - val_loss: 0.0000e+00 - val_accuracy: 0.5000\n",
      "Epoch 59/80\n",
      "15/15 [==============================] - 0s 17ms/step - loss: 0.0000e+00 - accuracy: 0.6000 - val_loss: 0.0000e+00 - val_accuracy: 0.5000\n",
      "Epoch 60/80\n",
      "15/15 [==============================] - 0s 17ms/step - loss: 0.0000e+00 - accuracy: 0.6000 - val_loss: 0.0000e+00 - val_accuracy: 0.5000\n",
      "Epoch 61/80\n",
      "15/15 [==============================] - 0s 16ms/step - loss: 0.0000e+00 - accuracy: 0.6000 - val_loss: 0.0000e+00 - val_accuracy: 0.5000\n",
      "Epoch 62/80\n",
      "15/15 [==============================] - ETA: 0s - loss: 0.0000e+00 - accuracy: 0.61 - 0s 16ms/step - loss: 0.0000e+00 - accuracy: 0.6000 - val_loss: 0.0000e+00 - val_accuracy: 0.5000\n",
      "Epoch 63/80\n",
      "15/15 [==============================] - 0s 18ms/step - loss: 0.0000e+00 - accuracy: 0.6000 - val_loss: 0.0000e+00 - val_accuracy: 0.5000\n",
      "Epoch 64/80\n",
      "15/15 [==============================] - 0s 17ms/step - loss: 0.0000e+00 - accuracy: 0.6000 - val_loss: 0.0000e+00 - val_accuracy: 0.5000\n",
      "Epoch 65/80\n",
      "15/15 [==============================] - 0s 17ms/step - loss: 0.0000e+00 - accuracy: 0.6000 - val_loss: 0.0000e+00 - val_accuracy: 0.5000\n",
      "Epoch 66/80\n",
      "15/15 [==============================] - 0s 16ms/step - loss: 0.0000e+00 - accuracy: 0.6000 - val_loss: 0.0000e+00 - val_accuracy: 0.5000\n",
      "Epoch 67/80\n",
      "15/15 [==============================] - 0s 17ms/step - loss: 0.0000e+00 - accuracy: 0.6000 - val_loss: 0.0000e+00 - val_accuracy: 0.5000\n",
      "Epoch 68/80\n",
      "15/15 [==============================] - 0s 16ms/step - loss: 0.0000e+00 - accuracy: 0.6000 - val_loss: 0.0000e+00 - val_accuracy: 0.5000\n",
      "Epoch 69/80\n",
      "15/15 [==============================] - 0s 16ms/step - loss: 0.0000e+00 - accuracy: 0.6000 - val_loss: 0.0000e+00 - val_accuracy: 0.5000\n",
      "Epoch 70/80\n",
      "15/15 [==============================] - 0s 17ms/step - loss: 0.0000e+00 - accuracy: 0.6000 - val_loss: 0.0000e+00 - val_accuracy: 0.5000\n",
      "Epoch 71/80\n",
      "15/15 [==============================] - 0s 16ms/step - loss: 0.0000e+00 - accuracy: 0.6000 - val_loss: 0.0000e+00 - val_accuracy: 0.5000\n",
      "Epoch 72/80\n",
      "15/15 [==============================] - 0s 17ms/step - loss: 0.0000e+00 - accuracy: 0.6000 - val_loss: 0.0000e+00 - val_accuracy: 0.5000\n",
      "Epoch 73/80\n",
      "15/15 [==============================] - 0s 17ms/step - loss: 0.0000e+00 - accuracy: 0.6000 - val_loss: 0.0000e+00 - val_accuracy: 0.5000\n",
      "Epoch 74/80\n",
      "15/15 [==============================] - 0s 17ms/step - loss: 0.0000e+00 - accuracy: 0.6000 - val_loss: 0.0000e+00 - val_accuracy: 0.5000\n",
      "Epoch 75/80\n",
      "15/15 [==============================] - 0s 16ms/step - loss: 0.0000e+00 - accuracy: 0.6000 - val_loss: 0.0000e+00 - val_accuracy: 0.5000\n",
      "Epoch 76/80\n",
      "15/15 [==============================] - 0s 18ms/step - loss: 0.0000e+00 - accuracy: 0.6000 - val_loss: 0.0000e+00 - val_accuracy: 0.5000\n",
      "Epoch 77/80\n",
      "15/15 [==============================] - ETA: 0s - loss: 0.0000e+00 - accuracy: 0.60 - 0s 19ms/step - loss: 0.0000e+00 - accuracy: 0.6000 - val_loss: 0.0000e+00 - val_accuracy: 0.5000\n",
      "Epoch 78/80\n",
      "15/15 [==============================] - 0s 18ms/step - loss: 0.0000e+00 - accuracy: 0.6000 - val_loss: 0.0000e+00 - val_accuracy: 0.5000\n",
      "Epoch 79/80\n",
      "15/15 [==============================] - 0s 19ms/step - loss: 0.0000e+00 - accuracy: 0.6000 - val_loss: 0.0000e+00 - val_accuracy: 0.5000\n",
      "Epoch 80/80\n",
      "15/15 [==============================] - 0s 19ms/step - loss: 0.0000e+00 - accuracy: 0.6000 - val_loss: 0.0000e+00 - val_accuracy: 0.5000\n"
     ]
    }
   ],
   "source": [
    "history=model.fit(x_train,y_train,batch_size=2,epochs=80,validation_data=(x_test,y_test),verbose=1)"
   ]
  },
  {
   "cell_type": "code",
   "execution_count": 94,
   "metadata": {},
   "outputs": [
    {
     "name": "stdout",
     "output_type": "stream",
     "text": [
      "Model: \"sequential_8\"\n",
      "_________________________________________________________________\n",
      "Layer (type)                 Output Shape              Param #   \n",
      "=================================================================\n",
      "dense_32 (Dense)             (None, 512)               4096      \n",
      "_________________________________________________________________\n",
      "dense_33 (Dense)             (None, 512)               262656    \n",
      "_________________________________________________________________\n",
      "dense_34 (Dense)             (None, 512)               262656    \n",
      "_________________________________________________________________\n",
      "dense_35 (Dense)             (None, 1)                 513       \n",
      "=================================================================\n",
      "Total params: 529,921\n",
      "Trainable params: 529,921\n",
      "Non-trainable params: 0\n",
      "_________________________________________________________________\n"
     ]
    }
   ],
   "source": [
    "model.summary()"
   ]
  },
  {
   "cell_type": "code",
   "execution_count": 95,
   "metadata": {},
   "outputs": [
    {
     "name": "stdout",
     "output_type": "stream",
     "text": [
      "2/2 [==============================] - 0s 11ms/step - loss: 0.0000e+00 - accuracy: 0.5750\n"
     ]
    }
   ],
   "source": [
    "accuracy=model.evaluate(x,y)"
   ]
  },
  {
   "cell_type": "code",
   "execution_count": 96,
   "metadata": {},
   "outputs": [],
   "source": [
    "prediction=model.predict_classes(x)"
   ]
  },
  {
   "cell_type": "code",
   "execution_count": 97,
   "metadata": {},
   "outputs": [
    {
     "name": "stdout",
     "output_type": "stream",
     "text": [
      "[15.    0.96  0.49  0.2   0.36  4.1   0.  ] [1] 0.0\n"
     ]
    }
   ],
   "source": [
    "print(x[4], prediction[4],y[4])"
   ]
  },
  {
   "cell_type": "code",
   "execution_count": null,
   "metadata": {},
   "outputs": [],
   "source": []
  },
  {
   "cell_type": "code",
   "execution_count": null,
   "metadata": {},
   "outputs": [],
   "source": []
  }
 ],
 "metadata": {
  "kernelspec": {
   "display_name": "Python 3",
   "language": "python",
   "name": "python3"
  },
  "language_info": {
   "codemirror_mode": {
    "name": "ipython",
    "version": 3
   },
   "file_extension": ".py",
   "mimetype": "text/x-python",
   "name": "python",
   "nbconvert_exporter": "python",
   "pygments_lexer": "ipython3",
   "version": "3.8.3"
  }
 },
 "nbformat": 4,
 "nbformat_minor": 4
}
